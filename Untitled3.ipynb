{
 "cells": [
  {
   "cell_type": "code",
   "execution_count": 37,
   "metadata": {},
   "outputs": [],
   "source": [
    "import pandas as pd\n",
    "import matplotlib.pyplot as plt\n",
    "import seaborn as sns"
   ]
  },
  {
   "cell_type": "code",
   "execution_count": 4,
   "metadata": {},
   "outputs": [],
   "source": [
    "df = pd.read_csv(\"C:/Users/270168/Downloads/personal/us_state_naicssector_small_emplsize_2016.csv\", skiprows=5)"
   ]
  },
  {
   "cell_type": "code",
   "execution_count": 20,
   "metadata": {},
   "outputs": [
    {
     "data": {
      "text/html": [
       "<div>\n",
       "<style scoped>\n",
       "    .dataframe tbody tr th:only-of-type {\n",
       "        vertical-align: middle;\n",
       "    }\n",
       "\n",
       "    .dataframe tbody tr th {\n",
       "        vertical-align: top;\n",
       "    }\n",
       "\n",
       "    .dataframe thead th {\n",
       "        text-align: right;\n",
       "    }\n",
       "</style>\n",
       "<table border=\"1\" class=\"dataframe\">\n",
       "  <thead>\n",
       "    <tr style=\"text-align: right;\">\n",
       "      <th></th>\n",
       "      <th>FIPS  CODE</th>\n",
       "      <th>GEOGRAPHIC AREA DESCRIPTION</th>\n",
       "      <th>NAICS CODE</th>\n",
       "      <th>NAICS DESCRIPTION</th>\n",
       "      <th>ENTERPRISE EMPLOYMENT SIZE</th>\n",
       "      <th>NUMBER OF FIRMS</th>\n",
       "      <th>NUMBER OF ESTABLISHMENTS</th>\n",
       "      <th>EMPLOYMENT</th>\n",
       "      <th>EMPLOYMENT RANGE FLAG</th>\n",
       "      <th>EMPLOYMENT NOISE FLAG</th>\n",
       "      <th>ANNUAL PAYROLL ($1,000)</th>\n",
       "      <th>ANNUAL PAYROLL NOISE FLAG</th>\n",
       "    </tr>\n",
       "  </thead>\n",
       "  <tbody>\n",
       "    <tr>\n",
       "      <th>0</th>\n",
       "      <td>NaN</td>\n",
       "      <td>NaN</td>\n",
       "      <td>NaN</td>\n",
       "      <td>NaN</td>\n",
       "      <td>NaN</td>\n",
       "      <td>NaN</td>\n",
       "      <td>NaN</td>\n",
       "      <td>NaN</td>\n",
       "      <td>NaN</td>\n",
       "      <td>NaN</td>\n",
       "      <td>NaN</td>\n",
       "      <td>NaN</td>\n",
       "    </tr>\n",
       "    <tr>\n",
       "      <th>1</th>\n",
       "      <td>NaN</td>\n",
       "      <td>NaN</td>\n",
       "      <td>NaN</td>\n",
       "      <td>NaN</td>\n",
       "      <td>NaN</td>\n",
       "      <td>NaN</td>\n",
       "      <td>NaN</td>\n",
       "      <td>NaN</td>\n",
       "      <td>NaN</td>\n",
       "      <td>NaN</td>\n",
       "      <td>NaN</td>\n",
       "      <td>NaN</td>\n",
       "    </tr>\n",
       "    <tr>\n",
       "      <th>2</th>\n",
       "      <td>0.0</td>\n",
       "      <td>United States</td>\n",
       "      <td>--</td>\n",
       "      <td>Total</td>\n",
       "      <td>01:  Total</td>\n",
       "      <td>5,954,684</td>\n",
       "      <td>7,757,807</td>\n",
       "      <td>126,752,238</td>\n",
       "      <td>NaN</td>\n",
       "      <td>G</td>\n",
       "      <td>6,435,142,055</td>\n",
       "      <td>G</td>\n",
       "    </tr>\n",
       "    <tr>\n",
       "      <th>3</th>\n",
       "      <td>0.0</td>\n",
       "      <td>United States</td>\n",
       "      <td>--</td>\n",
       "      <td>Total</td>\n",
       "      <td>02:  0-4</td>\n",
       "      <td>3,665,182</td>\n",
       "      <td>3,671,901</td>\n",
       "      <td>5,923,452</td>\n",
       "      <td>NaN</td>\n",
       "      <td>G</td>\n",
       "      <td>268,039,737</td>\n",
       "      <td>G</td>\n",
       "    </tr>\n",
       "    <tr>\n",
       "      <th>4</th>\n",
       "      <td>0.0</td>\n",
       "      <td>United States</td>\n",
       "      <td>--</td>\n",
       "      <td>Total</td>\n",
       "      <td>03:  5-9</td>\n",
       "      <td>1,013,878</td>\n",
       "      <td>1,025,690</td>\n",
       "      <td>6,681,968</td>\n",
       "      <td>NaN</td>\n",
       "      <td>G</td>\n",
       "      <td>248,985,263</td>\n",
       "      <td>G</td>\n",
       "    </tr>\n",
       "  </tbody>\n",
       "</table>\n",
       "</div>"
      ],
      "text/plain": [
       "    FIPS  CODE GEOGRAPHIC AREA DESCRIPTION NAICS CODE  NAICS DESCRIPTION  \\\n",
       "0          NaN                         NaN         NaN               NaN   \n",
       "1          NaN                         NaN         NaN               NaN   \n",
       "2          0.0               United States          --             Total   \n",
       "3          0.0               United States          --             Total   \n",
       "4          0.0               United States          --             Total   \n",
       "\n",
       "  ENTERPRISE EMPLOYMENT SIZE NUMBER OF FIRMS NUMBER OF ESTABLISHMENTS  \\\n",
       "0                        NaN             NaN                      NaN   \n",
       "1                        NaN             NaN                      NaN   \n",
       "2                 01:  Total       5,954,684                7,757,807   \n",
       "3                   02:  0-4       3,665,182                3,671,901   \n",
       "4                   03:  5-9       1,013,878                1,025,690   \n",
       "\n",
       "    EMPLOYMENT EMPLOYMENT RANGE FLAG EMPLOYMENT NOISE FLAG  \\\n",
       "0          NaN                   NaN                   NaN   \n",
       "1          NaN                   NaN                   NaN   \n",
       "2  126,752,238                   NaN                     G   \n",
       "3    5,923,452                   NaN                     G   \n",
       "4    6,681,968                   NaN                     G   \n",
       "\n",
       "  ANNUAL PAYROLL ($1,000) ANNUAL PAYROLL NOISE FLAG  \n",
       "0                     NaN                       NaN  \n",
       "1                     NaN                       NaN  \n",
       "2           6,435,142,055                         G  \n",
       "3             268,039,737                         G  \n",
       "4             248,985,263                         G  "
      ]
     },
     "execution_count": 20,
     "metadata": {},
     "output_type": "execute_result"
    }
   ],
   "source": [
    "df.head()"
   ]
  },
  {
   "cell_type": "code",
   "execution_count": 35,
   "metadata": {},
   "outputs": [],
   "source": [
    "df_total = df.loc[df[\"ENTERPRISE EMPLOYMENT SIZE\"] == \"01:  Total\"]"
   ]
  },
  {
   "cell_type": "code",
   "execution_count": 40,
   "metadata": {},
   "outputs": [],
   "source": [
    "df_us_wi = df.loc[df[\"GEOGRAPHIC AREA DESCRIPTION\"].isin ([\"United States\", \"Wisconsin\"])]"
   ]
  },
  {
   "cell_type": "code",
   "execution_count": 44,
   "metadata": {},
   "outputs": [
    {
     "data": {
      "text/html": [
       "<div>\n",
       "<style scoped>\n",
       "    .dataframe tbody tr th:only-of-type {\n",
       "        vertical-align: middle;\n",
       "    }\n",
       "\n",
       "    .dataframe tbody tr th {\n",
       "        vertical-align: top;\n",
       "    }\n",
       "\n",
       "    .dataframe thead th {\n",
       "        text-align: right;\n",
       "    }\n",
       "</style>\n",
       "<table border=\"1\" class=\"dataframe\">\n",
       "  <thead>\n",
       "    <tr style=\"text-align: right;\">\n",
       "      <th></th>\n",
       "      <th>FIPS  CODE</th>\n",
       "      <th>GEOGRAPHIC AREA DESCRIPTION</th>\n",
       "      <th>NAICS CODE</th>\n",
       "      <th>NAICS DESCRIPTION</th>\n",
       "      <th>ENTERPRISE EMPLOYMENT SIZE</th>\n",
       "      <th>NUMBER OF FIRMS</th>\n",
       "      <th>NUMBER OF ESTABLISHMENTS</th>\n",
       "      <th>EMPLOYMENT</th>\n",
       "      <th>EMPLOYMENT RANGE FLAG</th>\n",
       "      <th>EMPLOYMENT NOISE FLAG</th>\n",
       "      <th>ANNUAL PAYROLL ($1,000)</th>\n",
       "      <th>ANNUAL PAYROLL NOISE FLAG</th>\n",
       "    </tr>\n",
       "  </thead>\n",
       "  <tbody>\n",
       "    <tr>\n",
       "      <th>20100</th>\n",
       "      <td>55.0</td>\n",
       "      <td>Wisconsin</td>\n",
       "      <td>99</td>\n",
       "      <td>Industries not classified</td>\n",
       "      <td>03:  5-9</td>\n",
       "      <td>6</td>\n",
       "      <td>6</td>\n",
       "      <td>38</td>\n",
       "      <td>NaN</td>\n",
       "      <td>J</td>\n",
       "      <td>566</td>\n",
       "      <td>G</td>\n",
       "    </tr>\n",
       "    <tr>\n",
       "      <th>20101</th>\n",
       "      <td>55.0</td>\n",
       "      <td>Wisconsin</td>\n",
       "      <td>99</td>\n",
       "      <td>Industries not classified</td>\n",
       "      <td>05:  15-19</td>\n",
       "      <td>1</td>\n",
       "      <td>1</td>\n",
       "      <td>0</td>\n",
       "      <td>A</td>\n",
       "      <td>D</td>\n",
       "      <td>0</td>\n",
       "      <td>D</td>\n",
       "    </tr>\n",
       "    <tr>\n",
       "      <th>20102</th>\n",
       "      <td>55.0</td>\n",
       "      <td>Wisconsin</td>\n",
       "      <td>99</td>\n",
       "      <td>Industries not classified</td>\n",
       "      <td>06:  &lt;20</td>\n",
       "      <td>301</td>\n",
       "      <td>301</td>\n",
       "      <td>313</td>\n",
       "      <td>NaN</td>\n",
       "      <td>J</td>\n",
       "      <td>4,910</td>\n",
       "      <td>G</td>\n",
       "    </tr>\n",
       "    <tr>\n",
       "      <th>20103</th>\n",
       "      <td>55.0</td>\n",
       "      <td>Wisconsin</td>\n",
       "      <td>99</td>\n",
       "      <td>Industries not classified</td>\n",
       "      <td>07:  20-24</td>\n",
       "      <td>2</td>\n",
       "      <td>2</td>\n",
       "      <td>0</td>\n",
       "      <td>B</td>\n",
       "      <td>D</td>\n",
       "      <td>0</td>\n",
       "      <td>D</td>\n",
       "    </tr>\n",
       "    <tr>\n",
       "      <th>20104</th>\n",
       "      <td>55.0</td>\n",
       "      <td>Wisconsin</td>\n",
       "      <td>99</td>\n",
       "      <td>Industries not classified</td>\n",
       "      <td>19:  &lt;500</td>\n",
       "      <td>303</td>\n",
       "      <td>303</td>\n",
       "      <td>355</td>\n",
       "      <td>NaN</td>\n",
       "      <td>J</td>\n",
       "      <td>5,083</td>\n",
       "      <td>G</td>\n",
       "    </tr>\n",
       "  </tbody>\n",
       "</table>\n",
       "</div>"
      ],
      "text/plain": [
       "        FIPS  CODE GEOGRAPHIC AREA DESCRIPTION NAICS CODE   \\\n",
       "20100         55.0                   Wisconsin          99   \n",
       "20101         55.0                   Wisconsin          99   \n",
       "20102         55.0                   Wisconsin          99   \n",
       "20103         55.0                   Wisconsin          99   \n",
       "20104         55.0                   Wisconsin          99   \n",
       "\n",
       "               NAICS DESCRIPTION ENTERPRISE EMPLOYMENT SIZE NUMBER OF FIRMS  \\\n",
       "20100  Industries not classified                   03:  5-9               6   \n",
       "20101  Industries not classified                 05:  15-19               1   \n",
       "20102  Industries not classified                   06:  <20             301   \n",
       "20103  Industries not classified                 07:  20-24               2   \n",
       "20104  Industries not classified                  19:  <500             303   \n",
       "\n",
       "      NUMBER OF ESTABLISHMENTS EMPLOYMENT EMPLOYMENT RANGE FLAG  \\\n",
       "20100                        6         38                   NaN   \n",
       "20101                        1          0                     A   \n",
       "20102                      301        313                   NaN   \n",
       "20103                        2          0                     B   \n",
       "20104                      303        355                   NaN   \n",
       "\n",
       "      EMPLOYMENT NOISE FLAG ANNUAL PAYROLL ($1,000) ANNUAL PAYROLL NOISE FLAG  \n",
       "20100                     J                     566                         G  \n",
       "20101                     D                       0                         D  \n",
       "20102                     J                   4,910                         G  \n",
       "20103                     D                       0                         D  \n",
       "20104                     J                   5,083                         G  "
      ]
     },
     "execution_count": 44,
     "metadata": {},
     "output_type": "execute_result"
    }
   ],
   "source": [
    "df_us_wi.tail()"
   ]
  },
  {
   "cell_type": "code",
   "execution_count": 53,
   "metadata": {},
   "outputs": [
    {
     "name": "stderr",
     "output_type": "stream",
     "text": [
      "C:\\ProgramData\\Anaconda3\\lib\\site-packages\\ipykernel_launcher.py:1: SettingWithCopyWarning: \n",
      "A value is trying to be set on a copy of a slice from a DataFrame.\n",
      "Try using .loc[row_indexer,col_indexer] = value instead\n",
      "\n",
      "See the caveats in the documentation: http://pandas.pydata.org/pandas-docs/stable/indexing.html#indexing-view-versus-copy\n",
      "  \"\"\"Entry point for launching an IPython kernel.\n"
     ]
    }
   ],
   "source": [
    "df_us_wi[\"NUMBER OF FIRMS_num\"] = df_us_wi[\"NUMBER OF FIRMS\"].apply(lambda x: x.replace(',', ''))"
   ]
  },
  {
   "cell_type": "code",
   "execution_count": 56,
   "metadata": {},
   "outputs": [
    {
     "name": "stderr",
     "output_type": "stream",
     "text": [
      "C:\\ProgramData\\Anaconda3\\lib\\site-packages\\ipykernel_launcher.py:1: SettingWithCopyWarning: \n",
      "A value is trying to be set on a copy of a slice from a DataFrame.\n",
      "Try using .loc[row_indexer,col_indexer] = value instead\n",
      "\n",
      "See the caveats in the documentation: http://pandas.pydata.org/pandas-docs/stable/indexing.html#indexing-view-versus-copy\n",
      "  \"\"\"Entry point for launching an IPython kernel.\n"
     ]
    }
   ],
   "source": [
    "df_us_wi[\"NUMBER OF FIRMS_num\"] = df_us_wi[\"NUMBER OF FIRMS_num\"].astype(int)"
   ]
  },
  {
   "cell_type": "code",
   "execution_count": 59,
   "metadata": {},
   "outputs": [
    {
     "data": {
      "text/plain": [
       "<matplotlib.axes._subplots.AxesSubplot at 0x2292d210d68>"
      ]
     },
     "execution_count": 59,
     "metadata": {},
     "output_type": "execute_result"
    },
    {
     "data": {
      "image/png": "[encoded data removed]",
      "text/plain": [
       "<matplotlib.figure.Figure at 0x2292d175ef0>"
      ]
     },
     "metadata": {},
     "output_type": "display_data"
    }
   ],
   "source": [
    "sns.barplot(x=\"NUMBER OF FIRMS_num\",y=\"NAICS DESCRIPTION\", data=df_us_wi, hue=\"GEOGRAPHIC AREA DESCRIPTION\" )"
   ]
  },
  {
   "cell_type": "code",
   "execution_count": null,
   "metadata": {},
   "outputs": [],
   "source": []
  }
 ],
 "metadata": {
  "kernelspec": {
   "display_name": "Python 3",
   "language": "python",
   "name": "python3"
  },
  "language_info": {
   "codemirror_mode": {
    "name": "ipython",
    "version": 3
   },
   "file_extension": ".py",
   "mimetype": "text/x-python",
   "name": "python",
   "nbconvert_exporter": "python",
   "pygments_lexer": "ipython3",
   "version": "3.6.4"
  }
 },
 "nbformat": 4,
 "nbformat_minor": 2
}
